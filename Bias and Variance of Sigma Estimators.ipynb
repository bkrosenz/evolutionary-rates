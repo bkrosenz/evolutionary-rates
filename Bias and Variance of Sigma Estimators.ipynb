{
 "cells": [
  {
   "cell_type": "markdown",
   "id": "1fb3d39c-d526-472d-9843-0b6c2d178376",
   "metadata": {},
   "source": [
    "## Import the necessary modules from SymPy"
   ]
  },
  {
   "cell_type": "code",
   "execution_count": 1,
   "id": "5da38e9c-a19c-4c68-883c-9b9afbbcde7a",
   "metadata": {
    "tags": []
   },
   "outputs": [],
   "source": [
    "from sympy import symbols, simplify, factor, expand, lambdify,Matrix, prod\n",
    "import numpy as np\n",
    "import math\n",
    "import itertools\n",
    "from pathlib import Path\n",
    "import sympy\n",
    "import matplotlib.pyplot as plt\n",
    "\n",
    "# import msprime\n",
    "import numpy as np\n",
    "import pandas as pd\n",
    "\n",
    "from itertools import combinations,permutations,combinations_with_replacement\n",
    "from operator import  mul\n",
    "from functools import  *"
   ]
  },
  {
   "cell_type": "code",
   "execution_count": 2,
   "id": "17fd31cd-3e15-4c0b-b34d-9a3f211053bb",
   "metadata": {
    "tags": []
   },
   "outputs": [],
   "source": [
    "# Define the symbols used in the expression\n",
    "# 'a', 'b', 'c', 'd' are general variables.\n",
    "# 'e', 'eps' (epsilon), 'delta' are also variables, often representing small quantities or parameters.\n",
    "a, b, c, d, e, f, t0,t1,t2,t3,t4,sigma, = symbols('a b c d e f t0 t1 t2 t3 t4 sigma')\n",
    "\n",
    "taxa = [a, b, c, d, e, f,]\n",
    "branching_times = [t0,t1,t2,t3,t4]\n",
    "root_to_tip = sum(branching_times)\n",
    "\n",
    "# Define the given mathematical expression\n",
    "# The expression is broken down into three main terms for clarity,\n",
    "# then summed together.\n",
    "\n",
    "contrast = lambda a,b,e: (a-b)**2 / e\n",
    "\n",
    "\n",
    "def f_full(a,b,c,d,e,f):\n",
    "    c1 = contrast(a,b,2*t0)\n",
    "    c2 = contrast(c, d, 2 * (t0+t1))\n",
    "    c3 = contrast(e, f, 2 * (t0+t1+t2))\n",
    "    x1 = ( a + b ) / 2\n",
    "    x2 = (c + d) / 2\n",
    "    x3 = (e + f) / 2\n",
    "    bias_full = (t0/2 + t1 + t2 + t3)\n",
    "    bias_cherries = ((t0+t1)/2 + t2 + t3)\n",
    "    e3 = ((t0+t1+t2)/2 + t3 + t4)\n",
    "    denom = bias_full + bias_cherries \n",
    "    c4 = contrast(x1, x2, denom)\n",
    "    x4 = (bias_full*x2+bias_cherries*x1) / (bias_full+bias_cherries)\n",
    "    e4 = (bias_full*bias_cherries) / (bias_full+bias_cherries)\n",
    "    c5 = contrast(x3,x4, e3 + e4 + t4)\n",
    "    return (c1+c2+c3+c4+c5) / 5\n",
    "\n",
    "\n",
    "def enumerate_k_partitions(n, k):\n",
    "    \"\"\"\n",
    "    Enumerates all unique ways to partition n distinct elements into sets of size k.\n",
    "\n",
    "    This function works by recursively finding sets of k elements. It fixes the\n",
    "    first available element and forms a set of k elements by combining it with\n",
    "    k-1 other available elements, then recursively finds partitions for the\n",
    "    remaining elements.\n",
    "\n",
    "    Args:\n",
    "        n (int): The total number of elements to partition. Elements are represented by\n",
    "                 integers from 0 to n-1.\n",
    "        k (int): The desired size of each set in the partition.\n",
    "\n",
    "    Returns:\n",
    "        list: A list of lists, where each inner list represents a unique partition.\n",
    "              Each partition is a list of tuples, where each tuple is a set of k elements\n",
    "              (e.g., (0, 1, 2)).\n",
    "              Returns an empty list if k does not divide n, or if n, k are invalid.\n",
    "\n",
    "    Raises:\n",
    "        ValueError: If n is negative or k is not a positive integer.\n",
    "    \"\"\"\n",
    "    if n < 0:\n",
    "        raise ValueError(\"Number of elements (n) cannot be negative.\")\n",
    "    if k <= 0:\n",
    "        raise ValueError(\"Set size (k) must be a positive integer.\")\n",
    "    if n % k != 0:\n",
    "        # It's impossible to partition n elements into sets of size k if k does not divide n.\n",
    "        # print(f\"Warning: Cannot partition {n} elements into sets of size {k} because {k} does not divide {n}.\")\n",
    "        return []\n",
    "    if n == 0:\n",
    "        # Base case: There's one way to partition an empty set (an empty partition).\n",
    "        return [[]]\n",
    "\n",
    "    # Initialize the list of elements as integers from 0 to n-1\n",
    "    elements = list(range(n))\n",
    "    all_partitions = []\n",
    "\n",
    "    # The core recursive function\n",
    "    def _find_partitions(current_elements):\n",
    "        # Base case: If no elements left, we found a valid partition.\n",
    "        if not current_elements:\n",
    "            return [[]]\n",
    "\n",
    "        # Pick the first available element to start a new set\n",
    "        first_element = current_elements[0]\n",
    "        # Elements available for forming the rest of the current set\n",
    "        remaining_to_choose_from = current_elements[1:]\n",
    "\n",
    "        partitions_for_current_level = []\n",
    "\n",
    "        # We need to choose k-1 additional elements to form a set of size k\n",
    "        # from the remaining_to_choose_from.\n",
    "        # This is where itertools.combinations becomes useful.\n",
    "        for combo_of_k_minus_1 in itertools.combinations(\n",
    "            remaining_to_choose_from, k - 1\n",
    "        ):\n",
    "            # Form the current set, ensuring elements are sorted for uniqueness\n",
    "            current_set = tuple(sorted((first_element,) + combo_of_k_minus_1))\n",
    "\n",
    "            # Create the list of elements remaining after forming this set\n",
    "            # This involves removing 'first_element' and all elements in 'combo_of_k_minus_1'\n",
    "            elements_in_current_set = set(current_set)  # Use a set for efficient lookup\n",
    "            elements_after_set = [\n",
    "                e for e in current_elements if e not in elements_in_current_set\n",
    "            ]\n",
    "\n",
    "            # Recursively find partitions for the remaining elements\n",
    "            sub_partitions = _find_partitions(elements_after_set)\n",
    "\n",
    "            # Combine the current set with all sub-partitions found\n",
    "            for sub_p in sub_partitions:\n",
    "                partitions_for_current_level.append([current_set] + sub_p)\n",
    "\n",
    "        return partitions_for_current_level\n",
    "\n",
    "    all_partitions = _find_partitions(elements)\n",
    "    return all_partitions\n",
    "\n",
    "\n",
    "def generate_moments(variables, cov, max_moment=None):\n",
    "    n = len(variables)\n",
    "    r = range(n)\n",
    "    moments = []\n",
    "    for k in range(1, max_moment or n + 1):\n",
    "        m = {}\n",
    "        for x in combinations_with_replacement(r, k):\n",
    "            indices = enumerate_k_partitions(k, 2)\n",
    "            m[reduce(mul, (variables[i] for i in x))] = sum(\n",
    "                reduce(mul, (cov[x[i], x[j]] for i, j in ix)) for ix in indices\n",
    "            )\n",
    "        moments.append(m)\n",
    "    return moments"
   ]
  },
  {
   "cell_type": "markdown",
   "id": "642c35cc-7b6b-4d84-acf5-b7e11e7af15f",
   "metadata": {},
   "source": [
    "Tree shape is $(((a,b):T1,(c,d):T2):T4,(e,f):T3):T5$.  Alternatively we could have (a,b) and (c,d) merge before e and f."
   ]
  },
  {
   "cell_type": "code",
   "execution_count": null,
   "id": "54047c95-599a-4d7f-85d5-785577966d23",
   "metadata": {
    "tags": []
   },
   "outputs": [],
   "source": [
    "cov = Matrix([\n",
    "    [ root_to_tip,      root_to_tip-t0,     t4,             t4,           0,                  0],\n",
    "    [root_to_tip-t0,    root_to_tip,        t4,             t4,           0,                  0],\n",
    "    [t4,                t4,                 root_to_tip,    t2+t3+t4,     0,                  0],\n",
    "    [t4,                t4,                 t2+t3+t4,       root_to_tip,  0,                  0],\n",
    "    [0,                 0,                  0,             0,             root_to_tip,        t3+t4 ],\n",
    "    [0,                 0,                  0,             0,             t3+t4,              root_to_tip ]\n",
    "    ]) * sigma**2\n",
    "\n"
   ]
  },
  {
   "cell_type": "code",
   "execution_count": null,
   "id": "6e0c6a4b-de31-486c-8412-b5b08ce39f1f",
   "metadata": {
    "tags": []
   },
   "outputs": [],
   "source": [
    "moments = generate_moments(taxa, cov)\n",
    "\n",
    "cherry = expand(( contrast(a,b,2*t0) + \n",
    "                 contrast(c,d, 2*(t0+t1)) + \n",
    "                  contrast(e,f,2*(t0+t1+t2))) / 3)\n",
    "\n",
    "pic = f_full(*taxa)\n"
   ]
  },
  {
   "cell_type": "code",
   "execution_count": null,
   "id": "1086c606-a41e-4feb-bcaa-6de48f431e8d",
   "metadata": {
    "tags": []
   },
   "outputs": [],
   "source": [
    "\n",
    "pic_e = expand(pic)\n",
    "for m in reversed(moments):\n",
    "    pic_e = pic_e.subs(m)\n",
    "simplify(pic_e)"
   ]
  },
  {
   "cell_type": "code",
   "execution_count": null,
   "id": "c7b49bdf-efac-4730-8e66-a2c1c61357c3",
   "metadata": {
    "tags": []
   },
   "outputs": [],
   "source": [
    "pic_v = expand(pic**2-sigma**4)\n",
    "for m in reversed(moments):\n",
    "    pic_v = pic_v.subs(m)\n",
    "simplify(pic_v)"
   ]
  },
  {
   "cell_type": "code",
   "execution_count": null,
   "id": "efbb1ef9-06a8-47df-a548-68454ff63e65",
   "metadata": {},
   "outputs": [],
   "source": [
    "from sympy import Matrix, print_latex\n",
    "print_latex(pic_v)"
   ]
  },
  {
   "cell_type": "markdown",
   "id": "fe294bfb-82e5-4aad-ba8e-b3445748c403",
   "metadata": {},
   "source": [
    "### Three Taxa"
   ]
  },
  {
   "cell_type": "code",
   "execution_count": 7,
   "id": "ea6de638-1343-44ac-863d-1e7a0e295af6",
   "metadata": {},
   "outputs": [],
   "source": [
    "def f_full(a,b,c): \n",
    "    c1 = contrast(a,b,2*t0)\n",
    "    x1=(a+b) / 2\n",
    "    v1 = (t0/2 + t1)\n",
    "    v2 = (t0 + t1)\n",
    "    denom = v1+v2 #[:,np.newaxis] \n",
    "    c2 = contrast(x1, c, denom)\n",
    "    return (c1+c2) / 2\n",
    "\n",
    "cov = Matrix([\n",
    "        [t0 + t1,  t1,       0], \n",
    "        [t1,       t0 + t1,  0], \n",
    "        [0,        0,        t0 + t1],\n",
    "                            ]) * sigma**2\n",
    "\n",
    "\n",
    "variables = [a, b, c]\n",
    "pic = simplify(f_full(a, b, c))\n",
    "\n",
    "moments = list(reversed(generate_moments(variables, cov, cov.shape[1] + 2)))\n",
    "\n",
    "def substitute_moments(expr):\n",
    "    for m in moments:\n",
    "        expr = expr.subs(m, simultaneous=True)\n",
    "    return expr\n"
   ]
  },
  {
   "cell_type": "code",
   "execution_count": 9,
   "id": "5d25064c-7f64-411b-a7e6-ebd5cc705990",
   "metadata": {},
   "outputs": [
    {
     "data": {
      "text/latex": [
       "$\\displaystyle \\frac{t_{0} \\left(a + b - 2 c\\right)^{2} + \\left(a - b\\right)^{2} \\left(3 t_{0} + 4 t_{1}\\right)}{4 t_{0} \\left(3 t_{0} + 4 t_{1}\\right)}$"
      ],
      "text/plain": [
       "(t0*(a + b - 2*c)**2 + (a - b)**2*(3*t0 + 4*t1))/(4*t0*(3*t0 + 4*t1))"
      ]
     },
     "execution_count": 9,
     "metadata": {},
     "output_type": "execute_result"
    }
   ],
   "source": [
    "pic"
   ]
  },
  {
   "cell_type": "code",
   "execution_count": 8,
   "id": "d9ab4642-0e7e-4599-85b7-e5b71cd692ce",
   "metadata": {},
   "outputs": [
    {
     "data": {
      "text/latex": [
       "$\\displaystyle \\sigma^{4}$"
      ],
      "text/plain": [
       "sigma**4"
      ]
     },
     "execution_count": 8,
     "metadata": {},
     "output_type": "execute_result"
    }
   ],
   "source": [
    "\n",
    "epic = simplify(substitute_moments(expand(pic)))\n",
    "vpic = simplify(substitute_moments(expand((pic - epic) ** 2)))\n",
    "vpic\n"
   ]
  },
  {
   "cell_type": "code",
   "execution_count": 5,
   "id": "97f6b773-a573-4d77-93f4-6821bab4732e",
   "metadata": {},
   "outputs": [
    {
     "data": {
      "text/latex": [
       "$\\displaystyle \\sigma^{4}$"
      ],
      "text/plain": [
       "sigma**4"
      ]
     },
     "execution_count": 5,
     "metadata": {},
     "output_type": "execute_result"
    }
   ],
   "source": [
    "vpic"
   ]
  },
  {
   "cell_type": "code",
   "execution_count": 6,
   "id": "86297333-0456-4b54-b0ed-1259b7384738",
   "metadata": {},
   "outputs": [
    {
     "data": {
      "text/latex": [
       "$\\displaystyle 2 \\sigma^{4}$"
      ],
      "text/plain": [
       "2*sigma**4"
      ]
     },
     "execution_count": 6,
     "metadata": {},
     "output_type": "execute_result"
    }
   ],
   "source": [
    "cherry = contrast(a,b,2*t0)\n",
    "\n",
    "epic_c = substitute_moments(expand(cherry))\n",
    "vpic_c = substitute_moments(expand((cherry - epic_c) ** 2))\n",
    "\n",
    "simplify(vpic_c)"
   ]
  },
  {
   "cell_type": "code",
   "execution_count": null,
   "id": "71f45f03-1cbb-4e56-b8dd-b07c3a66c2b5",
   "metadata": {},
   "outputs": [],
   "source": [
    "vpic_c.subs({t0:100,t1:10})\n",
    "simplify(epic)"
   ]
  },
  {
   "cell_type": "markdown",
   "id": "8bfd9a1c-496b-4bc0-a03f-40ee5bd82a44",
   "metadata": {},
   "source": [
    "### three taxa, misspecified"
   ]
  },
  {
   "cell_type": "code",
   "execution_count": null,
   "id": "4b2a0e41-9225-43cb-9923-f3de1e332154",
   "metadata": {},
   "outputs": [],
   "source": [
    "\n",
    "cov = Matrix([\n",
    "        [t0 + t1, 0,        t1], \n",
    "        [0,       t0 + t1,  0], \n",
    "        [t1,        0,        t0 + t1],\n",
    "                            ]) * sigma**2\n",
    "\n",
    "\n",
    "variables = [a, b, c]\n",
    "pic = f_full(a, b, c)\n",
    "\n",
    "moments = list(reversed(generate_moments(variables, cov, cov.shape[1] + 2)))\n",
    "\n",
    "def substitute_moments(expr):\n",
    "    for m in moments:\n",
    "        expr = expr.subs(m, simultaneous=True)\n",
    "    return expr\n",
    "\n",
    "\n",
    "epic = simplify(substitute_moments(expand(pic)))\n",
    "vpic = simplify(substitute_moments(expand((pic - epic) ** 2)))\n",
    "vpic\n"
   ]
  },
  {
   "cell_type": "code",
   "execution_count": null,
   "id": "f2322937-ea66-4b54-96ed-014170de4ac8",
   "metadata": {},
   "outputs": [],
   "source": [
    "vpic.subs({t0:1,t1:.01})"
   ]
  },
  {
   "cell_type": "code",
   "execution_count": null,
   "id": "ac49f463-be32-41f3-b6e3-b986e48d11ff",
   "metadata": {},
   "outputs": [],
   "source": [
    "vpic.subs({sigma:1, })\n"
   ]
  },
  {
   "cell_type": "code",
   "execution_count": 2,
   "id": "9a6e8842-43f3-4106-84a9-cd80593a1c80",
   "metadata": {},
   "outputs": [
    {
     "ename": "NameError",
     "evalue": "name 'sympy' is not defined",
     "output_type": "error",
     "traceback": [
      "\u001b[31m---------------------------------------------------------------------------\u001b[39m",
      "\u001b[31mNameError\u001b[39m                                 Traceback (most recent call last)",
      "\u001b[36mCell\u001b[39m\u001b[36m \u001b[39m\u001b[32mIn[2]\u001b[39m\u001b[32m, line 1\u001b[39m\n\u001b[32m----> \u001b[39m\u001b[32m1\u001b[39m func = \u001b[43msympy\u001b[49m.lambdify(\n\u001b[32m      2\u001b[39m     (t0,t1),\n\u001b[32m      3\u001b[39m     vpic.subs(sigma,\u001b[32m1\u001b[39m),\n\u001b[32m      4\u001b[39m     modules=\u001b[33m'\u001b[39m\u001b[33mnumpy\u001b[39m\u001b[33m'\u001b[39m\n\u001b[32m      5\u001b[39m )\n\u001b[32m      7\u001b[39m x = np.linspace(\u001b[32m0\u001b[39m,\u001b[32m1\u001b[39m,\u001b[32m100\u001b[39m)\n\u001b[32m      8\u001b[39m plt.plot(x,func(\u001b[32m1\u001b[39m,x));\n",
      "\u001b[31mNameError\u001b[39m: name 'sympy' is not defined"
     ]
    }
   ],
   "source": [
    "\n",
    "func = sympy.lambdify(\n",
    "    (t0,t1),\n",
    "    vpic.subs(sigma,1),\n",
    "    modules='numpy'\n",
    ")\n",
    "\n",
    "x = np.linspace(0,1,100)\n",
    "plt.plot(x,func(1,x));"
   ]
  },
  {
   "cell_type": "code",
   "execution_count": null,
   "id": "ef8d298a-567c-4b04-8324-1a92a4ff07e7",
   "metadata": {},
   "outputs": [],
   "source": [
    "\n",
    "func = sympy.lambdify(\n",
    "    (t0,t1),\n",
    "    vpic.subs(sigma,1),\n",
    "    modules='numpy'\n",
    ")\n",
    "\n",
    "x = np.linspace(0,1,100)\n",
    "plt.plot(x,func(1,x));\n"
   ]
  },
  {
   "cell_type": "markdown",
   "id": "67a0a9ea-467e-46cd-98e2-98fd5a6cf731",
   "metadata": {},
   "source": [
    "## four taxa\n",
    "$((a:t0, b:t0):t1, c:t0+t1):t2, d:t0+t1+t2)$"
   ]
  },
  {
   "cell_type": "code",
   "execution_count": 10,
   "id": "e7413321-fd35-47d3-9986-6e1d2d742e32",
   "metadata": {},
   "outputs": [],
   "source": [
    "def f_full(a,b,c,d): \n",
    "    c1 = contrast(a,b,2*t0)\n",
    "    x1=(a+b) / 2\n",
    "    v1 = (t0/2 + t1)\n",
    "    v2 = (t0 + t1)\n",
    "    denom = v1+v2 #[:,np.newaxis] \n",
    "    c2 = contrast(x1, c, denom)\n",
    "    x2 =( x1*v2 + c*v1 ) / denom \n",
    "    e_k = v2*v1 / denom \n",
    "    c3 = contrast(x2,d, 2*t2 + t1 + t1 + e_k)\n",
    "    return (c1+c2+c3) / 3\n",
    "\n",
    "variables = [a, b, c,d]\n",
    "pic = f_full(a, b, c,d)\n",
    "\n",
    "cov = Matrix([\n",
    "        [t0 + t1+t2,  t1+t2,       t2, 0], \n",
    "        [t1+t2,       t0 + t1 +t2, t2, 0], \n",
    "        [t2,          t2,          t0 + t1+t2, 0],\n",
    "        [0,           0,           0, t0 + t1+t2],\n",
    "                            ]) * sigma**2\n",
    "\n",
    "moments = list(reversed(generate_moments(variables, cov, cov.shape[1] + 2)))\n",
    "\n",
    "def substitute_moments(expr):\n",
    "    for m in moments:\n",
    "        expr = expr.subs(m, simultaneous=True)\n",
    "    return expr\n"
   ]
  },
  {
   "cell_type": "code",
   "execution_count": 4,
   "id": "6276c3b0-40fd-4a63-b283-bacb2ac07d0f",
   "metadata": {},
   "outputs": [
    {
     "data": {
      "text/plain": [
       "[{a**5: 0,\n",
       "  a**4*b: 0,\n",
       "  a**4*c: 0,\n",
       "  a**4*d: 0,\n",
       "  a**3*b**2: 0,\n",
       "  a**3*b*c: 0,\n",
       "  a**3*b*d: 0,\n",
       "  a**3*c**2: 0,\n",
       "  a**3*c*d: 0,\n",
       "  a**3*d**2: 0,\n",
       "  a**2*b**3: 0,\n",
       "  a**2*b**2*c: 0,\n",
       "  a**2*b**2*d: 0,\n",
       "  a**2*b*c**2: 0,\n",
       "  a**2*b*c*d: 0,\n",
       "  a**2*b*d**2: 0,\n",
       "  a**2*c**3: 0,\n",
       "  a**2*c**2*d: 0,\n",
       "  a**2*c*d**2: 0,\n",
       "  a**2*d**3: 0,\n",
       "  a*b**4: 0,\n",
       "  a*b**3*c: 0,\n",
       "  a*b**3*d: 0,\n",
       "  a*b**2*c**2: 0,\n",
       "  a*b**2*c*d: 0,\n",
       "  a*b**2*d**2: 0,\n",
       "  a*b*c**3: 0,\n",
       "  a*b*c**2*d: 0,\n",
       "  a*b*c*d**2: 0,\n",
       "  a*b*d**3: 0,\n",
       "  a*c**4: 0,\n",
       "  a*c**3*d: 0,\n",
       "  a*c**2*d**2: 0,\n",
       "  a*c*d**3: 0,\n",
       "  a*d**4: 0,\n",
       "  b**5: 0,\n",
       "  b**4*c: 0,\n",
       "  b**4*d: 0,\n",
       "  b**3*c**2: 0,\n",
       "  b**3*c*d: 0,\n",
       "  b**3*d**2: 0,\n",
       "  b**2*c**3: 0,\n",
       "  b**2*c**2*d: 0,\n",
       "  b**2*c*d**2: 0,\n",
       "  b**2*d**3: 0,\n",
       "  b*c**4: 0,\n",
       "  b*c**3*d: 0,\n",
       "  b*c**2*d**2: 0,\n",
       "  b*c*d**3: 0,\n",
       "  b*d**4: 0,\n",
       "  c**5: 0,\n",
       "  c**4*d: 0,\n",
       "  c**3*d**2: 0,\n",
       "  c**2*d**3: 0,\n",
       "  c*d**4: 0,\n",
       "  d**5: 0},\n",
       " {a**4: 3*sigma**4*(t0 + t1 + t2)**2,\n",
       "  a**3*b: 3*sigma**4*(t1 + t2)*(t0 + t1 + t2),\n",
       "  a**3*c: 3*sigma**4*t2*(t0 + t1 + t2),\n",
       "  a**3*d: 0,\n",
       "  a**2*b**2: 2*sigma**4*(t1 + t2)**2 + sigma**4*(t0 + t1 + t2)**2,\n",
       "  a**2*b*c: 2*sigma**4*t2*(t1 + t2) + sigma**4*t2*(t0 + t1 + t2),\n",
       "  a**2*b*d: 0,\n",
       "  a**2*c**2: 2*sigma**4*t2**2 + sigma**4*(t0 + t1 + t2)**2,\n",
       "  a**2*c*d: 0,\n",
       "  a**2*d**2: sigma**4*(t0 + t1 + t2)**2,\n",
       "  a*b**3: 3*sigma**4*(t1 + t2)*(t0 + t1 + t2),\n",
       "  a*b**2*c: 2*sigma**4*t2*(t1 + t2) + sigma**4*t2*(t0 + t1 + t2),\n",
       "  a*b**2*d: 0,\n",
       "  a*b*c**2: 2*sigma**4*t2**2 + sigma**4*(t1 + t2)*(t0 + t1 + t2),\n",
       "  a*b*c*d: 0,\n",
       "  a*b*d**2: sigma**4*(t1 + t2)*(t0 + t1 + t2),\n",
       "  a*c**3: 3*sigma**4*t2*(t0 + t1 + t2),\n",
       "  a*c**2*d: 0,\n",
       "  a*c*d**2: sigma**4*t2*(t0 + t1 + t2),\n",
       "  a*d**3: 0,\n",
       "  b**4: 3*sigma**4*(t0 + t1 + t2)**2,\n",
       "  b**3*c: 3*sigma**4*t2*(t0 + t1 + t2),\n",
       "  b**3*d: 0,\n",
       "  b**2*c**2: 2*sigma**4*t2**2 + sigma**4*(t0 + t1 + t2)**2,\n",
       "  b**2*c*d: 0,\n",
       "  b**2*d**2: sigma**4*(t0 + t1 + t2)**2,\n",
       "  b*c**3: 3*sigma**4*t2*(t0 + t1 + t2),\n",
       "  b*c**2*d: 0,\n",
       "  b*c*d**2: sigma**4*t2*(t0 + t1 + t2),\n",
       "  b*d**3: 0,\n",
       "  c**4: 3*sigma**4*(t0 + t1 + t2)**2,\n",
       "  c**3*d: 0,\n",
       "  c**2*d**2: sigma**4*(t0 + t1 + t2)**2,\n",
       "  c*d**3: 0,\n",
       "  d**4: 3*sigma**4*(t0 + t1 + t2)**2},\n",
       " {a**3: 0,\n",
       "  a**2*b: 0,\n",
       "  a**2*c: 0,\n",
       "  a**2*d: 0,\n",
       "  a*b**2: 0,\n",
       "  a*b*c: 0,\n",
       "  a*b*d: 0,\n",
       "  a*c**2: 0,\n",
       "  a*c*d: 0,\n",
       "  a*d**2: 0,\n",
       "  b**3: 0,\n",
       "  b**2*c: 0,\n",
       "  b**2*d: 0,\n",
       "  b*c**2: 0,\n",
       "  b*c*d: 0,\n",
       "  b*d**2: 0,\n",
       "  c**3: 0,\n",
       "  c**2*d: 0,\n",
       "  c*d**2: 0,\n",
       "  d**3: 0},\n",
       " {a**2: sigma**2*(t0 + t1 + t2),\n",
       "  a*b: sigma**2*(t1 + t2),\n",
       "  a*c: sigma**2*t2,\n",
       "  a*d: 0,\n",
       "  b**2: sigma**2*(t0 + t1 + t2),\n",
       "  b*c: sigma**2*t2,\n",
       "  b*d: 0,\n",
       "  c**2: sigma**2*(t0 + t1 + t2),\n",
       "  c*d: 0,\n",
       "  d**2: sigma**2*(t0 + t1 + t2)},\n",
       " {a: 0, b: 0, c: 0, d: 0}]"
      ]
     },
     "execution_count": 4,
     "metadata": {},
     "output_type": "execute_result"
    }
   ],
   "source": [
    "moments"
   ]
  },
  {
   "cell_type": "code",
   "execution_count": null,
   "id": "568203d5-1907-47d0-858a-3bda51363c36",
   "metadata": {},
   "outputs": [],
   "source": [
    "\n",
    "epic = substitute_moments(expand(pic))\n",
    "vpic = substitute_moments(expand((pic - epic) ** 2))\n",
    "vpic\n"
   ]
  },
  {
   "cell_type": "code",
   "execution_count": null,
   "id": "47627e4a-19c7-456d-b014-1987adb89421",
   "metadata": {},
   "outputs": [],
   "source": [
    "epic"
   ]
  },
  {
   "cell_type": "code",
   "execution_count": null,
   "id": "bd8be98e-c3f1-463b-8997-1b4f3771d54f",
   "metadata": {},
   "outputs": [],
   "source": [
    "vpic = substitute_moments(expand((pic - epic) ** 2))\n",
    "vpic\n"
   ]
  },
  {
   "cell_type": "markdown",
   "id": "46d730b2-a683-4662-a44c-3b39a20c0bc8",
   "metadata": {},
   "source": [
    "## simulate balanced 6"
   ]
  },
  {
   "cell_type": "code",
   "execution_count": 6,
   "id": "2e2dc81b-d12d-442b-b64f-5ab686997f2c",
   "metadata": {},
   "outputs": [],
   "source": [
    "\n",
    "def f_full(a, b, c, d, e, f):\n",
    "    c1 = contrast(a, b, 2 * t0)\n",
    "    c2 = contrast(c, d, 2 * (t0 + t1))\n",
    "    c3 = contrast(e, f, 2 * (t0 + t1 + t2))\n",
    "    x1 = (a + b) / 2\n",
    "    x2 = (c + d) / 2\n",
    "    x3 = (e + f) / 2\n",
    "    bias_full = t0 / 2 + t1 + t2 + t3\n",
    "    bias_cherries = (t0 + t1) / 2 + t2 + t3\n",
    "    e3 = (t0 + t1 + t2) / 2 + t3 + t4\n",
    "    denom = bias_full + bias_cherries\n",
    "    c4 = contrast(x1, x2, denom)\n",
    "    x4 = (bias_full * x2 + bias_cherries * x1) / (bias_full + bias_cherries)\n",
    "    e4 = (bias_full * bias_cherries) / (bias_full + bias_cherries)\n",
    "    c5 = contrast(x3, x4, e3 + e4 + t4)\n",
    "    return (c1 + c2 + c3 + c4 + c5) / 5\n",
    "\n",
    "def f_cherries(a,b,c,d,e,f):\n",
    "    return (contrast(a,b,2*t0)+contrast(c,d,2*(t0+t1))+contrast(e,f,2*(t0+t1+t2))) / 3"
   ]
  },
  {
   "cell_type": "code",
   "execution_count": 11,
   "id": "575becf5-42fc-4f3c-a830-53247b4ba930",
   "metadata": {},
   "outputs": [],
   "source": [
    "from scipy import stats\n",
    "\n",
    "x0=0\n",
    "mu = np.repeat(x0,6)\n",
    "\n",
    "t0 = 1\n",
    "n_trees=2000\n",
    "mse_full,mse_cherries,m3,bias_full,bias_cherries,sigs,var_full,var_cherries,v3=([] for _ in range(9))\n",
    "for _ in range(n_trees):\n",
    "    \n",
    "    [sigsq, t1, t2, t3, t4] = np.random.rand(5)\n",
    "    k = .001\n",
    "    t1,t2,t3,t4 = t1/k,t2/k,t3/k,t4/k\n",
    "    root_to_tip = sum([t0, t1, t2, t3, t4])\n",
    "    cov = (\n",
    "        Matrix(\n",
    "            [\n",
    "                [root_to_tip, root_to_tip - t0, t4, t4, 0, 0],\n",
    "                [root_to_tip - t0, root_to_tip, t4, t4, 0, 0],\n",
    "                [t4, t4, root_to_tip, t2 + t3 + t4, 0, 0],\n",
    "                [t4, t4, t2 + t3 + t4, root_to_tip, 0, 0],\n",
    "                [0, 0, 0, 0, root_to_tip, t3 + t4],\n",
    "                [0, 0, 0, 0, t3 + t4, root_to_tip],\n",
    "            ]\n",
    "        )\n",
    "        * sigsq\n",
    "    )\n",
    "    sigs.append(sigsq)\n",
    "    values = stats.multivariate_normal(mu, cov, allow_singular=True).rvs(20_000).T\n",
    "    s_hat_1 = f_full(*values)\n",
    "    s_hat_2 = f_cherries(*values)\n",
    "    mse_full.append(((s_hat_1-sigsq)**2).mean())\n",
    "    mse_cherries.append(((s_hat_2-sigsq)**2).mean())\n",
    "    s_hat_1_mean = s_hat_1.mean()\n",
    "    s_hat_2_mean = s_hat_2.mean()\n",
    "    bias_full.append(s_hat_1_mean-sigsq)\n",
    "    bias_cherries.append(s_hat_2_mean-sigsq)\n",
    "    var_full.append(mse_full[-1] - bias_full[-1]**2)\n",
    "    var_cherries.append(mse_cherries[-1] - bias_cherries[-1]**2) # (s_hat_2**2).mean() - s_hat_2_mean**2\n",
    "  "
   ]
  },
  {
   "cell_type": "code",
   "execution_count": 12,
   "id": "09c2afb6-e68f-4d57-b956-5835c158352b",
   "metadata": {},
   "outputs": [],
   "source": [
    "res = pd.DataFrame({\n",
    "    'bias_full':bias_full, \n",
    "    'bias_cherries':bias_cherries, \n",
    "    'var_full':var_full, \n",
    "    'var_cherries':var_cherries, \n",
    "    'sigs':sigs\n",
    "})"
   ]
  },
  {
   "cell_type": "code",
   "execution_count": 13,
   "id": "72303f01-79e9-4db1-aeb7-c9eb0c8faf86",
   "metadata": {},
   "outputs": [
    {
     "data": {
      "image/png": "[encoded data removed]",
      "text/plain": [
       "<Figure size 640x480 with 4 Axes>"
      ]
     },
     "metadata": {},
     "output_type": "display_data"
    }
   ],
   "source": [
    "res.drop(columns='sigs').hist(bins=50);"
   ]
  },
  {
   "cell_type": "code",
   "execution_count": 16,
   "id": "650899ed-e10c-41b1-a272-6d6bd4ddc286",
   "metadata": {},
   "outputs": [],
   "source": [
    "# res.bias_full /= res.sigs\n",
    "# res.bias_cherries /= res.sigs\n",
    "res.var_full /= res.sigs**2\n",
    "res.var_cherries /= res.sigs**2\n",
    "\n",
    "# (r=.drop(columns='sigs').div(res.sigs, axis=0))"
   ]
  },
  {
   "cell_type": "code",
   "execution_count": 17,
   "id": "45b58872-b538-452c-858c-46da9b90284c",
   "metadata": {},
   "outputs": [
    {
     "data": {
      "image/png": "[encoded data removed]",
      "text/plain": [
       "<Figure size 640x480 with 4 Axes>"
      ]
     },
     "metadata": {},
     "output_type": "display_data"
    }
   ],
   "source": [
    "# fig = plt.figure();\n",
    "res.drop(columns='sigs').hist(bins=50);\n",
    "plt.gcf().suptitle(r'$Bias, \\frac{Variance}{\\sigma^4}$', fontsize=16);\n",
    "# fig.tight_layout()"
   ]
  },
  {
   "cell_type": "code",
   "execution_count": null,
   "id": "c5169569-1cb8-4a44-83b2-49c6887a68d9",
   "metadata": {},
   "outputs": [],
   "source": []
  },
  {
   "cell_type": "code",
   "execution_count": 16,
   "id": "f252b094-25b8-4c85-abb2-ace5c00b0a01",
   "metadata": {},
   "outputs": [
    {
     "data": {
      "image/png": "[encoded data removed]",
      "text/plain": [
       "<Figure size 640x480 with 4 Axes>"
      ]
     },
     "metadata": {},
     "output_type": "display_data"
    }
   ],
   "source": [
    "(res.drop(columns='sigs').div(res.sigs**2, axis=0)).hist(bins=50);"
   ]
  },
  {
   "cell_type": "markdown",
   "id": "5f2c7de1-4c20-4835-873e-1b5748f3cd8d",
   "metadata": {},
   "source": [
    "### 7 taxa"
   ]
  },
  {
   "cell_type": "code",
   "execution_count": null,
   "id": "a92710c6-3043-43f7-8fce-bb2976d5065f",
   "metadata": {},
   "outputs": [],
   "source": [
    "\n",
    "def f_full(a, b, c, d, e, f, g):\n",
    "    c1 = contrast(a, b, 2 * t0)\n",
    "    c2 = contrast(c, d, 2 * (t0 + t1))\n",
    "    c3 = contrast(e, f, 2 * (t0 + t1 + t2))\n",
    "    x1 = (a + b) / 2\n",
    "    x2 = (c + d) / 2\n",
    "    x3 = (e + f) / 2\n",
    "    bias_full = t0 / 2 + t1 + t2 + t3\n",
    "    bias_cherries = (t0 + t1) / 2 + t2 + t3\n",
    "    e3 = (t0 + t1 + t2) / 2 + t3 + t4\n",
    "    denom = bias_full + bias_cherries\n",
    "    c4 = contrast(x1, x2, denom)\n",
    "    x4 = (bias_full * x2 + bias_cherries * x1) / (bias_full + bias_cherries)\n",
    "    e4 = (bias_full * bias_cherries) / (bias_full + bias_cherries)\n",
    "    c5 = contrast(x3, x4, e3 + e4 + t4)\n",
    "    x5 = \n",
    "    c6 = contrast()\n",
    "    return (c1 + c2 + c3 + c4 + c5) / 6\n",
    "\n",
    "def f_cherries(a,b,c,d,e,f,g):\n",
    "    return (contrast(a,b,2*t0)+contrast(c,d,2*(t0+t1))+contrast(e,f,2*(t0+t1+t2))) / 3"
   ]
  },
  {
   "cell_type": "markdown",
   "id": "6925075f-32c1-4a4d-a0b8-f4ad8a797668",
   "metadata": {},
   "source": [
    "## Simulate New"
   ]
  },
  {
   "cell_type": "code",
   "execution_count": 102,
   "id": "b22e76ce-ef6d-48a9-80ed-5c989390ff41",
   "metadata": {},
   "outputs": [],
   "source": [
    "parent_dir =Path('/home/b/rate_timescaling/data/tree_sims/l7.5/m6.750/h5/no_ils')\n",
    "trees = parent_dir / 'sigmas_species_tree.npz'"
   ]
  },
  {
   "cell_type": "code",
   "execution_count": 4,
   "id": "b197d4a2-1e53-4e1e-aa17-bb962ea6dd87",
   "metadata": {},
   "outputs": [
    {
     "name": "stdout",
     "output_type": "stream",
     "text": [
      "EB_estimates_ngenes1_r20.RData\t\t   pic_js_sigmas20_ngenes1_full.npy\n",
      "delta_estimates_ngenes1_r20.RData\t   pic_js_sigmas20_ngenes1_full_v2.npy\n",
      "pic_bbridge_sigmas20_ngenes1_cherries.npy  pic_js_sigmas20_ngenes1_paired.npy\n",
      "pic_bbridge_sigmas20_ngenes1_full.npy\t   samples_ngenes1.npz\n",
      "pic_bbridge_sigmas20_ngenes1_paired.npy    sigmas_species_tree.npz\n",
      "pic_js_sigmas20_ngenes1_cherries.npy\t   taus.npy\n"
     ]
    }
   ],
   "source": [
    "!ls /home/b/rate_timescaling/data/tree_sims/l7.5/m6.750/h5/no_ils"
   ]
  },
  {
   "cell_type": "code",
   "execution_count": 5,
   "id": "2334182f-39bf-48ae-89f6-015c00a089d6",
   "metadata": {},
   "outputs": [],
   "source": [
    "sig = np.load(parent_dir /'pic_bbridge_sigmas20_ngenes1_full.npy')"
   ]
  },
  {
   "cell_type": "code",
   "execution_count": 6,
   "id": "8f5b4eba-0288-4adc-ae0c-5e0798cd7e7e",
   "metadata": {},
   "outputs": [
    {
     "data": {
      "text/plain": [
       "(array([ 7,  8, 30, 32, 48, 55, 58, 63, 64, 66, 79, 80, 85, 97]),)"
      ]
     },
     "execution_count": 6,
     "metadata": {},
     "output_type": "execute_result"
    }
   ],
   "source": [
    "np.where(sig[:,0] > 4)"
   ]
  },
  {
   "cell_type": "code",
   "execution_count": 7,
   "id": "3935e4b4-14e3-4335-a423-61878bc242b7",
   "metadata": {},
   "outputs": [],
   "source": [
    "preds = pd.read_csv('/home/b/rate_timescaling/data/pic_predictions_no_ils.csv.gz')"
   ]
  },
  {
   "cell_type": "code",
   "execution_count": 8,
   "id": "34228ce5-8ca1-4226-8432-1dd0645cc50b",
   "metadata": {},
   "outputs": [],
   "source": [
    "with open('/home/b/rate_timescaling/data/tree_sims/l7.5/m6.750/h5/parent_trees_4plus.phy') as f:\n",
    "    for i, line in enumerate( f):\n",
    "        if i==7:\n",
    "            break\n",
    "            "
   ]
  },
  {
   "cell_type": "code",
   "execution_count": 9,
   "id": "460a9232-3cd0-48a0-ad6a-023af6484368",
   "metadata": {},
   "outputs": [],
   "source": [
    "from bd_functions import *"
   ]
  },
  {
   "cell_type": "code",
   "execution_count": 34,
   "id": "19db8af8-eb44-4490-a1f8-c4f2a1072180",
   "metadata": {},
   "outputs": [
    {
     "data": {
      "text/plain": [
       "459020    2.877876\n",
       "459021    2.877876\n",
       "459022    2.877876\n",
       "459023    2.877876\n",
       "459024    2.877876\n",
       "            ...   \n",
       "460975    4.359871\n",
       "460976    4.359871\n",
       "460977    4.359871\n",
       "460978    4.359871\n",
       "460979    4.359871\n",
       "Name: sigma, Length: 1960, dtype: float64"
      ]
     },
     "execution_count": 34,
     "metadata": {},
     "output_type": "execute_result"
    }
   ],
   "source": [
    "(preds.query('lam==7.5 & mu==6.75 & h==5').sigma).unique()#>3).mean()"
   ]
  },
  {
   "cell_type": "code",
   "execution_count": null,
   "id": "bee20cdf-badc-4efa-b6c1-7154c91fe8f8",
   "metadata": {},
   "outputs": [],
   "source": [
    "preds.query('lam==7.5 & mu==6.75 & h==5 & np.abs(sigma-3.34475274)<1e-3')"
   ]
  },
  {
   "cell_type": "code",
   "execution_count": 35,
   "id": "471d94fa-5e3b-44a1-958d-b6e871bf5bbc",
   "metadata": {},
   "outputs": [
    {
     "data": {
      "text/plain": [
       "lam               7.500000\n",
       "mu                6.750000\n",
       "h                 5.000000\n",
       "bl_max            2.274422\n",
       "bl_mean           0.235663\n",
       "bl_median         0.100344\n",
       "bl_min            0.000064\n",
       "bl_q1             0.031813\n",
       "bl_q3             0.270134\n",
       "bl_std            0.335000\n",
       "n               459.000000\n",
       "rho              -0.408062\n",
       "sigma             4.359871\n",
       "sigma_cherry      1.108772\n",
       "sigma_js          0.989410\n",
       "sigma_js_old      1.020530\n",
       "sigma_paired      1.114884\n",
       "tau               0.108379\n",
       "Name: 460978, dtype: float64"
      ]
     },
     "execution_count": 35,
     "metadata": {},
     "output_type": "execute_result"
    }
   ],
   "source": [
    "preds.iloc[460978]"
   ]
  },
  {
   "cell_type": "code",
   "execution_count": 11,
   "id": "126ca313-296b-4205-9a70-2cfd79000102",
   "metadata": {},
   "outputs": [],
   "source": [
    "parent_tree = dendropy.Tree.get_from_string(line, \"newick\")\n",
    "sigma = phylogenetic_covariance(parent_tree)"
   ]
  },
  {
   "cell_type": "code",
   "execution_count": 68,
   "id": "fd999199-813d-47da-882b-70f5b713ea85",
   "metadata": {},
   "outputs": [],
   "source": [
    "from scipy.stats import multivariate_normal\n",
    "nsamps=1000\n",
    "nleaves = len(sigma)\n",
    "samples = multivariate_normal.rvs(np.zeros(nleaves), sigma, nsamps, i)"
   ]
  },
  {
   "cell_type": "code",
   "execution_count": 69,
   "id": "f09316dc-66fc-49d9-92e4-036a7aeff08a",
   "metadata": {},
   "outputs": [
    {
     "data": {
      "text/plain": [
       "array([[ 3.30176225, -1.17402474,  2.17343354, ..., -1.70355647,\n",
       "        -0.95570332,  0.04492795],\n",
       "       [ 2.64836262, -0.93966088,  3.02784422, ..., -0.29125265,\n",
       "        -0.50028321, -0.72458665],\n",
       "       [ 1.0697886 ,  0.02543653,  0.58697819, ...,  0.39322808,\n",
       "         0.62370667,  0.19099257],\n",
       "       ...,\n",
       "       [-4.11719252, -0.24894368, -2.6362332 , ...,  0.97677143,\n",
       "         0.84169431, -1.32080002],\n",
       "       [ 2.19208274,  2.8776626 ,  2.19697419, ...,  1.93958161,\n",
       "         2.57631996,  1.62714989],\n",
       "       [ 4.70071079, -0.89176727,  3.54487559, ..., -1.08264859,\n",
       "        -1.62304099, -2.73658998]], shape=(1000, 260))"
      ]
     },
     "execution_count": 69,
     "metadata": {},
     "output_type": "execute_result"
    }
   ],
   "source": [
    "samples"
   ]
  },
  {
   "cell_type": "code",
   "execution_count": 89,
   "id": "a4774022-64d1-4b09-996b-e37e29d6ef22",
   "metadata": {},
   "outputs": [],
   "source": [
    "sigmas = np.empty((3, nsamps,1))\n",
    "\n",
    "from simulation.calculate_sigmas import *\n",
    "\n",
    "for i,s in enumerate(samples):\n",
    "    pic = PIC(\n",
    "        t=parent_tree,\n",
    "        chars=s[np.newaxis,:],\n",
    "        calculate_pic=BrownianBridgePIC,\n",
    "        max_replicates=1,\n",
    "    )\n",
    "    \n",
    "    res = np.vstack(\n",
    "        (\n",
    "            pic.estimate_sigmas(),\n",
    "            pic.cherries_sigma(),\n",
    "            pic.paired_lineages_sigma(),\n",
    "        )\n",
    "    )\n",
    "    sigmas[:, i] = res\n",
    "sigmas = pd.DataFrame(sigmas.squeeze().T,columns=['full','cherry','pair'])\n"
   ]
  },
  {
   "cell_type": "code",
   "execution_count": 100,
   "id": "8f9193b4-6f93-41c1-b6ff-a52e1d36d40d",
   "metadata": {},
   "outputs": [
    {
     "data": {
      "text/html": [
       "<div>\n",
       "<style scoped>\n",
       "    .dataframe tbody tr th:only-of-type {\n",
       "        vertical-align: middle;\n",
       "    }\n",
       "\n",
       "    .dataframe tbody tr th {\n",
       "        vertical-align: top;\n",
       "    }\n",
       "\n",
       "    .dataframe thead th {\n",
       "        text-align: right;\n",
       "    }\n",
       "</style>\n",
       "<table border=\"1\" class=\"dataframe\">\n",
       "  <thead>\n",
       "    <tr style=\"text-align: right;\">\n",
       "      <th></th>\n",
       "      <th>full</th>\n",
       "      <th>cherry</th>\n",
       "      <th>pair</th>\n",
       "    </tr>\n",
       "  </thead>\n",
       "  <tbody>\n",
       "    <tr>\n",
       "      <th>0</th>\n",
       "      <td>1.545050</td>\n",
       "      <td>0.890680</td>\n",
       "      <td>0.886263</td>\n",
       "    </tr>\n",
       "    <tr>\n",
       "      <th>1</th>\n",
       "      <td>2.037824</td>\n",
       "      <td>0.949616</td>\n",
       "      <td>1.018498</td>\n",
       "    </tr>\n",
       "    <tr>\n",
       "      <th>2</th>\n",
       "      <td>1.732959</td>\n",
       "      <td>1.230181</td>\n",
       "      <td>1.164069</td>\n",
       "    </tr>\n",
       "    <tr>\n",
       "      <th>3</th>\n",
       "      <td>2.092985</td>\n",
       "      <td>1.235026</td>\n",
       "      <td>1.151426</td>\n",
       "    </tr>\n",
       "    <tr>\n",
       "      <th>4</th>\n",
       "      <td>1.947936</td>\n",
       "      <td>0.978899</td>\n",
       "      <td>1.142012</td>\n",
       "    </tr>\n",
       "    <tr>\n",
       "      <th>...</th>\n",
       "      <td>...</td>\n",
       "      <td>...</td>\n",
       "      <td>...</td>\n",
       "    </tr>\n",
       "    <tr>\n",
       "      <th>995</th>\n",
       "      <td>4.472601</td>\n",
       "      <td>0.826464</td>\n",
       "      <td>0.874304</td>\n",
       "    </tr>\n",
       "    <tr>\n",
       "      <th>996</th>\n",
       "      <td>3.217339</td>\n",
       "      <td>1.140973</td>\n",
       "      <td>1.144586</td>\n",
       "    </tr>\n",
       "    <tr>\n",
       "      <th>997</th>\n",
       "      <td>1.764652</td>\n",
       "      <td>0.987968</td>\n",
       "      <td>0.994871</td>\n",
       "    </tr>\n",
       "    <tr>\n",
       "      <th>998</th>\n",
       "      <td>3.130958</td>\n",
       "      <td>0.800231</td>\n",
       "      <td>0.901641</td>\n",
       "    </tr>\n",
       "    <tr>\n",
       "      <th>999</th>\n",
       "      <td>3.733107</td>\n",
       "      <td>0.731530</td>\n",
       "      <td>0.833194</td>\n",
       "    </tr>\n",
       "  </tbody>\n",
       "</table>\n",
       "<p>1000 rows × 3 columns</p>\n",
       "</div>"
      ],
      "text/plain": [
       "         full    cherry      pair\n",
       "0    1.545050  0.890680  0.886263\n",
       "1    2.037824  0.949616  1.018498\n",
       "2    1.732959  1.230181  1.164069\n",
       "3    2.092985  1.235026  1.151426\n",
       "4    1.947936  0.978899  1.142012\n",
       "..        ...       ...       ...\n",
       "995  4.472601  0.826464  0.874304\n",
       "996  3.217339  1.140973  1.144586\n",
       "997  1.764652  0.987968  0.994871\n",
       "998  3.130958  0.800231  0.901641\n",
       "999  3.733107  0.731530  0.833194\n",
       "\n",
       "[1000 rows x 3 columns]"
      ]
     },
     "execution_count": 100,
     "metadata": {},
     "output_type": "execute_result"
    }
   ],
   "source": [
    "sigmas"
   ]
  },
  {
   "cell_type": "code",
   "execution_count": 99,
   "id": "ce5309bf-dc3a-4838-95f7-45f15788df45",
   "metadata": {},
   "outputs": [],
   "source": [
    "sigmasj = np.empty((3, nsamps,1))\n",
    "\n",
    "from simulation.calculate_sigmas import *\n",
    "\n",
    "for i,s in enumerate(samples):\n",
    "    pic = PIC(\n",
    "        t=parent_tree,\n",
    "        chars=s[np.newaxis,:],\n",
    "        calculate_pic=JamesSteinPIC,\n",
    "        max_replicates=1,\n",
    "    )\n",
    "    \n",
    "    res = np.vstack(\n",
    "        (\n",
    "            pic.estimate_sigmas(),\n",
    "            pic.cherries_sigma(),\n",
    "            pic.paired_lineages_sigma(),\n",
    "        )\n",
    "    )\n",
    "    sigmasj[:, i] = res\n",
    "    \n",
    "sigmasj = pd.DataFrame(sigmasj.squeeze().T,columns=['full','cherry','pair'])\n"
   ]
  },
  {
   "cell_type": "code",
   "execution_count": 103,
   "id": "bbc28b44-0293-478e-9526-408378b310ff",
   "metadata": {},
   "outputs": [],
   "source": [
    "sigmasj.to_csv(parent_dir/'samps_tree0+7_js.csv.gz')\n",
    "# sigmas['js'] = sigmasj.full\n",
    "sigmas.to_csv(parent_dir /'samps_tree0+7.csv.gz')"
   ]
  },
  {
   "cell_type": "code",
   "execution_count": 140,
   "id": "b14d9fdc-5b62-4138-8fe4-d262d5e04944",
   "metadata": {},
   "outputs": [
    {
     "name": "stdout",
     "output_type": "stream",
     "text": [
      "/home/b/rate_timescaling\n"
     ]
    }
   ],
   "source": [
    "!pwd"
   ]
  },
  {
   "cell_type": "code",
   "execution_count": 141,
   "id": "66c2a7cf-9b87-4be9-965f-de8f0eebd8a1",
   "metadata": {},
   "outputs": [
    {
     "data": {
      "text/html": [
       "<div>\n",
       "<style scoped>\n",
       "    .dataframe tbody tr th:only-of-type {\n",
       "        vertical-align: middle;\n",
       "    }\n",
       "\n",
       "    .dataframe tbody tr th {\n",
       "        vertical-align: top;\n",
       "    }\n",
       "\n",
       "    .dataframe thead th {\n",
       "        text-align: right;\n",
       "    }\n",
       "</style>\n",
       "<table border=\"1\" class=\"dataframe\">\n",
       "  <thead>\n",
       "    <tr style=\"text-align: right;\">\n",
       "      <th></th>\n",
       "      <th>full</th>\n",
       "      <th>cherry</th>\n",
       "      <th>pair</th>\n",
       "      <th>js</th>\n",
       "    </tr>\n",
       "  </thead>\n",
       "  <tbody>\n",
       "    <tr>\n",
       "      <th>count</th>\n",
       "      <td>1000.000000</td>\n",
       "      <td>1000.000000</td>\n",
       "      <td>1000.000000</td>\n",
       "      <td>1000.000000</td>\n",
       "    </tr>\n",
       "    <tr>\n",
       "      <th>mean</th>\n",
       "      <td>2.965837</td>\n",
       "      <td>0.986519</td>\n",
       "      <td>0.988930</td>\n",
       "      <td>0.954782</td>\n",
       "    </tr>\n",
       "    <tr>\n",
       "      <th>std</th>\n",
       "      <td>1.934060</td>\n",
       "      <td>0.151467</td>\n",
       "      <td>0.123109</td>\n",
       "      <td>0.088026</td>\n",
       "    </tr>\n",
       "    <tr>\n",
       "      <th>min</th>\n",
       "      <td>0.907349</td>\n",
       "      <td>0.549644</td>\n",
       "      <td>0.662293</td>\n",
       "      <td>0.659547</td>\n",
       "    </tr>\n",
       "    <tr>\n",
       "      <th>25%</th>\n",
       "      <td>1.739133</td>\n",
       "      <td>0.879110</td>\n",
       "      <td>0.909265</td>\n",
       "      <td>0.894674</td>\n",
       "    </tr>\n",
       "    <tr>\n",
       "      <th>50%</th>\n",
       "      <td>2.350197</td>\n",
       "      <td>0.978714</td>\n",
       "      <td>0.982629</td>\n",
       "      <td>0.950949</td>\n",
       "    </tr>\n",
       "    <tr>\n",
       "      <th>75%</th>\n",
       "      <td>3.494616</td>\n",
       "      <td>1.087879</td>\n",
       "      <td>1.069971</td>\n",
       "      <td>1.008292</td>\n",
       "    </tr>\n",
       "    <tr>\n",
       "      <th>max</th>\n",
       "      <td>16.738372</td>\n",
       "      <td>1.499826</td>\n",
       "      <td>1.409428</td>\n",
       "      <td>1.267156</td>\n",
       "    </tr>\n",
       "  </tbody>\n",
       "</table>\n",
       "</div>"
      ],
      "text/plain": [
       "              full       cherry         pair           js\n",
       "count  1000.000000  1000.000000  1000.000000  1000.000000\n",
       "mean      2.965837     0.986519     0.988930     0.954782\n",
       "std       1.934060     0.151467     0.123109     0.088026\n",
       "min       0.907349     0.549644     0.662293     0.659547\n",
       "25%       1.739133     0.879110     0.909265     0.894674\n",
       "50%       2.350197     0.978714     0.982629     0.950949\n",
       "75%       3.494616     1.087879     1.069971     1.008292\n",
       "max      16.738372     1.499826     1.409428     1.267156"
      ]
     },
     "execution_count": 141,
     "metadata": {},
     "output_type": "execute_result"
    },
    {
     "data": {
      "image/png": "[encoded data removed]",
      "text/plain": [
       "<Figure size 640x480 with 4 Axes>"
      ]
     },
     "metadata": {},
     "output_type": "display_data"
    }
   ],
   "source": [
    "\n",
    "axes = sigmas.rename(columns={'full':'Full','cherry':'Cherries','pair':'Paired','js':'JS'}).hist(bins=40,sharey=True) #density=True\n",
    "for ax in axes.ravel():\n",
    "    ax.axvline(x=1,color='r',linestyle='dashed',linewidth=1)\n",
    "plt.savefig('/home/b/rate_timescaling/figures/t0+7.png')\n",
    "sigmas.describe()"
   ]
  },
  {
   "cell_type": "code",
   "execution_count": 131,
   "id": "5d7410a7-db98-4c39-80ca-b0828e4f47fe",
   "metadata": {},
   "outputs": [
    {
     "data": {
      "text/plain": [
       "array([<Axes: title={'center': 'Full'}>,\n",
       "       <Axes: title={'center': 'Cherries'}>,\n",
       "       <Axes: title={'center': 'Paired'}>, <Axes: title={'center': 'JS'}>],\n",
       "      dtype=object)"
      ]
     },
     "execution_count": 131,
     "metadata": {},
     "output_type": "execute_result"
    }
   ],
   "source": []
  },
  {
   "cell_type": "code",
   "execution_count": 105,
   "id": "a8b5ca4a-9c51-4346-9fb6-31cca61ca7ee",
   "metadata": {},
   "outputs": [
    {
     "data": {
      "text/html": [
       "<div>\n",
       "<style scoped>\n",
       "    .dataframe tbody tr th:only-of-type {\n",
       "        vertical-align: middle;\n",
       "    }\n",
       "\n",
       "    .dataframe tbody tr th {\n",
       "        vertical-align: top;\n",
       "    }\n",
       "\n",
       "    .dataframe thead th {\n",
       "        text-align: right;\n",
       "    }\n",
       "</style>\n",
       "<table border=\"1\" class=\"dataframe\">\n",
       "  <thead>\n",
       "    <tr style=\"text-align: right;\">\n",
       "      <th></th>\n",
       "      <th>full</th>\n",
       "      <th>cherry</th>\n",
       "      <th>pair</th>\n",
       "    </tr>\n",
       "  </thead>\n",
       "  <tbody>\n",
       "    <tr>\n",
       "      <th>count</th>\n",
       "      <td>1000.000000</td>\n",
       "      <td>1000.000000</td>\n",
       "      <td>1000.000000</td>\n",
       "    </tr>\n",
       "    <tr>\n",
       "      <th>mean</th>\n",
       "      <td>0.954782</td>\n",
       "      <td>0.986519</td>\n",
       "      <td>0.988930</td>\n",
       "    </tr>\n",
       "    <tr>\n",
       "      <th>std</th>\n",
       "      <td>0.088026</td>\n",
       "      <td>0.151467</td>\n",
       "      <td>0.123109</td>\n",
       "    </tr>\n",
       "    <tr>\n",
       "      <th>min</th>\n",
       "      <td>0.659547</td>\n",
       "      <td>0.549644</td>\n",
       "      <td>0.662293</td>\n",
       "    </tr>\n",
       "    <tr>\n",
       "      <th>25%</th>\n",
       "      <td>0.894674</td>\n",
       "      <td>0.879110</td>\n",
       "      <td>0.909265</td>\n",
       "    </tr>\n",
       "    <tr>\n",
       "      <th>50%</th>\n",
       "      <td>0.950949</td>\n",
       "      <td>0.978714</td>\n",
       "      <td>0.982629</td>\n",
       "    </tr>\n",
       "    <tr>\n",
       "      <th>75%</th>\n",
       "      <td>1.008292</td>\n",
       "      <td>1.087879</td>\n",
       "      <td>1.069971</td>\n",
       "    </tr>\n",
       "    <tr>\n",
       "      <th>max</th>\n",
       "      <td>1.267156</td>\n",
       "      <td>1.499826</td>\n",
       "      <td>1.409428</td>\n",
       "    </tr>\n",
       "  </tbody>\n",
       "</table>\n",
       "</div>"
      ],
      "text/plain": [
       "              full       cherry         pair\n",
       "count  1000.000000  1000.000000  1000.000000\n",
       "mean      0.954782     0.986519     0.988930\n",
       "std       0.088026     0.151467     0.123109\n",
       "min       0.659547     0.549644     0.662293\n",
       "25%       0.894674     0.879110     0.909265\n",
       "50%       0.950949     0.978714     0.982629\n",
       "75%       1.008292     1.087879     1.069971\n",
       "max       1.267156     1.499826     1.409428"
      ]
     },
     "execution_count": 105,
     "metadata": {},
     "output_type": "execute_result"
    },
    {
     "data": {
      "image/png": "[encoded data removed]",
      "text/plain": [
       "<Figure size 640x480 with 4 Axes>"
      ]
     },
     "metadata": {},
     "output_type": "display_data"
    }
   ],
   "source": [
    "sigmasj.hist(bins=40)\n",
    "sigmasj.describe()"
   ]
  },
  {
   "cell_type": "code",
   "execution_count": 77,
   "id": "b697bc64-9a02-4c35-8166-2aac86a67295",
   "metadata": {},
   "outputs": [
    {
     "name": "stderr",
     "output_type": "stream",
     "text": [
      "QStandardPaths: wrong permissions on runtime directory /run/user/1000/, 0755 instead of 0700\n"
     ]
    }
   ],
   "source": [
    "from ete3 import Tree, NodeStyle, TreeStyle\n",
    "t = Tree( line[5:] )\n",
    "t.show()"
   ]
  },
  {
   "cell_type": "code",
   "execution_count": 108,
   "id": "021bcab7-8e04-4ecf-ba2a-2e3db40423ca",
   "metadata": {},
   "outputs": [],
   "source": [
    "sigmas['js']=sigmasj.full"
   ]
  },
  {
   "cell_type": "code",
   "execution_count": null,
   "id": "5e212414-9362-4e3b-b400-7a838e6ad169",
   "metadata": {},
   "outputs": [],
   "source": [
    "for d in sigmas:\n",
    "    statistic, p_value = stats.shapiro(sigmas[d])\n",
    "    print(d,statistic,p_value)"
   ]
  },
  {
   "cell_type": "code",
   "execution_count": 116,
   "id": "44c16730-89a7-4b7e-b657-e8d792dab175",
   "metadata": {},
   "outputs": [
    {
     "name": "stdout",
     "output_type": "stream",
     "text": [
      "full 0.7602365366342545 9.160031736541993e-36\n",
      "cherry 0.9965582172804532 0.02747046452660926\n",
      "pair 0.9965317953463028 0.026294444687537766\n",
      "js 0.9953573897796616 0.0039011976924582643\n"
     ]
    }
   ],
   "source": [
    "for d in sigmas:\n",
    "    statistic, p_value = stats.shapiro(sigmas[d])\n",
    "    print(d,statistic,p_value)"
   ]
  },
  {
   "cell_type": "code",
   "execution_count": 127,
   "id": "8979a9a3-800e-4bf0-a69c-2b2a65704e83",
   "metadata": {},
   "outputs": [
    {
     "data": {
      "text/plain": [
       "np.float64(0.33204633204633205)"
      ]
     },
     "execution_count": 127,
     "metadata": {},
     "output_type": "execute_result"
    },
    {
     "data": {
      "image/png": "[encoded data removed]",
      "text/plain": [
       "<Figure size 640x480 with 1 Axes>"
      ]
     },
     "metadata": {},
     "output_type": "display_data"
    }
   ],
   "source": [
    "edges = np.array([e.length for e in parent_tree.internal_edges()])\n",
    "\n",
    "plt.hist(\n",
    "    edges,\n",
    "    bins=40)\n",
    "\n",
    "np.mean(edges<.05)"
   ]
  },
  {
   "cell_type": "code",
   "execution_count": 81,
   "id": "71914b5b-7c8e-4ec9-8bc6-8550a5dd2e31",
   "metadata": {},
   "outputs": [
    {
     "data": {
      "text/plain": [
       "0.022942252088999998"
      ]
     },
     "execution_count": 81,
     "metadata": {},
     "output_type": "execute_result"
    }
   ],
   "source": [
    ".151467**2"
   ]
  },
  {
   "cell_type": "code",
   "execution_count": 83,
   "id": "e43c2ac7-d22e-4c84-911a-dbc88a0bbaab",
   "metadata": {},
   "outputs": [
    {
     "data": {
      "text/plain": [
       "0.06262242910851495"
      ]
     },
     "execution_count": 83,
     "metadata": {},
     "output_type": "execute_result"
    }
   ],
   "source": [
    "255**-.5"
   ]
  },
  {
   "cell_type": "code",
   "execution_count": 109,
   "id": "edd2a066-c505-4f36-bcaa-fba56abddefc",
   "metadata": {},
   "outputs": [
    {
     "data": {
      "text/html": [
       "<div>\n",
       "<style scoped>\n",
       "    .dataframe tbody tr th:only-of-type {\n",
       "        vertical-align: middle;\n",
       "    }\n",
       "\n",
       "    .dataframe tbody tr th {\n",
       "        vertical-align: top;\n",
       "    }\n",
       "\n",
       "    .dataframe thead th {\n",
       "        text-align: right;\n",
       "    }\n",
       "</style>\n",
       "<table border=\"1\" class=\"dataframe\">\n",
       "  <thead>\n",
       "    <tr style=\"text-align: right;\">\n",
       "      <th></th>\n",
       "      <th>full</th>\n",
       "      <th>cherry</th>\n",
       "      <th>pair</th>\n",
       "      <th>js</th>\n",
       "    </tr>\n",
       "  </thead>\n",
       "  <tbody>\n",
       "    <tr>\n",
       "      <th>0</th>\n",
       "      <td>1.545050</td>\n",
       "      <td>0.890680</td>\n",
       "      <td>0.886263</td>\n",
       "      <td>0.909154</td>\n",
       "    </tr>\n",
       "    <tr>\n",
       "      <th>1</th>\n",
       "      <td>2.037824</td>\n",
       "      <td>0.949616</td>\n",
       "      <td>1.018498</td>\n",
       "      <td>0.986201</td>\n",
       "    </tr>\n",
       "    <tr>\n",
       "      <th>2</th>\n",
       "      <td>1.732959</td>\n",
       "      <td>1.230181</td>\n",
       "      <td>1.164069</td>\n",
       "      <td>1.024381</td>\n",
       "    </tr>\n",
       "    <tr>\n",
       "      <th>3</th>\n",
       "      <td>2.092985</td>\n",
       "      <td>1.235026</td>\n",
       "      <td>1.151426</td>\n",
       "      <td>1.029463</td>\n",
       "    </tr>\n",
       "    <tr>\n",
       "      <th>4</th>\n",
       "      <td>1.947936</td>\n",
       "      <td>0.978899</td>\n",
       "      <td>1.142012</td>\n",
       "      <td>1.068081</td>\n",
       "    </tr>\n",
       "    <tr>\n",
       "      <th>...</th>\n",
       "      <td>...</td>\n",
       "      <td>...</td>\n",
       "      <td>...</td>\n",
       "      <td>...</td>\n",
       "    </tr>\n",
       "    <tr>\n",
       "      <th>995</th>\n",
       "      <td>4.472601</td>\n",
       "      <td>0.826464</td>\n",
       "      <td>0.874304</td>\n",
       "      <td>0.947188</td>\n",
       "    </tr>\n",
       "    <tr>\n",
       "      <th>996</th>\n",
       "      <td>3.217339</td>\n",
       "      <td>1.140973</td>\n",
       "      <td>1.144586</td>\n",
       "      <td>1.072113</td>\n",
       "    </tr>\n",
       "    <tr>\n",
       "      <th>997</th>\n",
       "      <td>1.764652</td>\n",
       "      <td>0.987968</td>\n",
       "      <td>0.994871</td>\n",
       "      <td>1.018295</td>\n",
       "    </tr>\n",
       "    <tr>\n",
       "      <th>998</th>\n",
       "      <td>3.130958</td>\n",
       "      <td>0.800231</td>\n",
       "      <td>0.901641</td>\n",
       "      <td>0.914626</td>\n",
       "    </tr>\n",
       "    <tr>\n",
       "      <th>999</th>\n",
       "      <td>3.733107</td>\n",
       "      <td>0.731530</td>\n",
       "      <td>0.833194</td>\n",
       "      <td>0.910964</td>\n",
       "    </tr>\n",
       "  </tbody>\n",
       "</table>\n",
       "<p>1000 rows × 4 columns</p>\n",
       "</div>"
      ],
      "text/plain": [
       "         full    cherry      pair        js\n",
       "0    1.545050  0.890680  0.886263  0.909154\n",
       "1    2.037824  0.949616  1.018498  0.986201\n",
       "2    1.732959  1.230181  1.164069  1.024381\n",
       "3    2.092985  1.235026  1.151426  1.029463\n",
       "4    1.947936  0.978899  1.142012  1.068081\n",
       "..        ...       ...       ...       ...\n",
       "995  4.472601  0.826464  0.874304  0.947188\n",
       "996  3.217339  1.140973  1.144586  1.072113\n",
       "997  1.764652  0.987968  0.994871  1.018295\n",
       "998  3.130958  0.800231  0.901641  0.914626\n",
       "999  3.733107  0.731530  0.833194  0.910964\n",
       "\n",
       "[1000 rows x 4 columns]"
      ]
     },
     "execution_count": 109,
     "metadata": {},
     "output_type": "execute_result"
    }
   ],
   "source": [
    "sigmas"
   ]
  },
  {
   "cell_type": "code",
   "execution_count": null,
   "id": "7f01c20d-7f31-4f14-a7cf-d34e3d1cad6a",
   "metadata": {},
   "outputs": [],
   "source": []
  }
 ],
 "metadata": {
  "kernelspec": {
   "display_name": "Stats",
   "language": "python",
   "name": "stats"
  },
  "language_info": {
   "codemirror_mode": {
    "name": "ipython",
    "version": 3
   },
   "file_extension": ".py",
   "mimetype": "text/x-python",
   "name": "python",
   "nbconvert_exporter": "python",
   "pygments_lexer": "ipython3",
   "version": "3.13.5"
  }
 },
 "nbformat": 4,
 "nbformat_minor": 5
}
